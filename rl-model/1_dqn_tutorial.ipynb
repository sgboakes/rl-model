{
 "cells": [
  {
   "cell_type": "markdown",
   "metadata": {
    "id": "klGNgWREsvQv"
   },
   "source": [
    "##### Copyright 2021 The TF-Agents Authors."
   ]
  },
  {
   "cell_type": "code",
   "execution_count": null,
   "metadata": {
    "cellView": "form",
    "execution": {
     "iopub.execute_input": "2021-09-29T12:18:09.444263Z",
     "iopub.status.busy": "2021-09-29T12:18:09.443600Z",
     "iopub.status.idle": "2021-09-29T12:18:09.446089Z",
     "shell.execute_reply": "2021-09-29T12:18:09.446490Z"
    },
    "id": "nQnmcm0oI1Q-"
   },
   "outputs": [],
   "source": [
    "#@title Licensed under the Apache License, Version 2.0 (the \"License\");\n",
    "# you may not use this file except in compliance with the License.\n",
    "# You may obtain a copy of the License at\n",
    "#\n",
    "# https://www.apache.org/licenses/LICENSE-2.0\n",
    "#\n",
    "# Unless required by applicable law or agreed to in writing, software\n",
    "# distributed under the License is distributed on an \"AS IS\" BASIS,\n",
    "# WITHOUT WARRANTIES OR CONDITIONS OF ANY KIND, either express or implied.\n",
    "# See the License for the specific language governing permissions and\n",
    "# limitations under the License."
   ]
  },
  {
   "cell_type": "markdown",
   "metadata": {
    "id": "pmDI-h7cI0tI"
   },
   "source": [
    "# Train a Deep Q Network with TF-Agents\n",
    "\n",
    "<table class=\"tfo-notebook-buttons\" align=\"left\">\n",
    "  <td>\n",
    "    <a target=\"_blank\" href=\"https://www.tensorflow.org/agents/tutorials/1_dqn_tutorial\">\n",
    "    <img src=\"https://www.tensorflow.org/images/tf_logo_32px.png\" />\n",
    "    View on TensorFlow.org</a>\n",
    "  </td>\n",
    "  <td>\n",
    "    <a target=\"_blank\" href=\"https://colab.research.google.com/github/tensorflow/agents/blob/master/docs/tutorials/1_dqn_tutorial.ipynb\">\n",
    "    <img src=\"https://www.tensorflow.org/images/colab_logo_32px.png\" />\n",
    "    Run in Google Colab</a>\n",
    "  </td>\n",
    "  <td>\n",
    "    <a target=\"_blank\" href=\"https://github.com/tensorflow/agents/blob/master/docs/tutorials/1_dqn_tutorial.ipynb\">\n",
    "    <img src=\"https://www.tensorflow.org/images/GitHub-Mark-32px.png\" />\n",
    "    View source on GitHub</a>\n",
    "  </td>\n",
    "  <td>\n",
    "    <a href=\"https://storage.googleapis.com/tensorflow_docs/agents/docs/tutorials/1_dqn_tutorial.ipynb\"><img src=\"https://www.tensorflow.org/images/download_logo_32px.png\" />Download notebook</a>\n",
    "  </td>\n",
    "</table>"
   ]
  },
  {
   "cell_type": "markdown",
   "metadata": {
    "id": "lsaQlK8fFQqH"
   },
   "source": [
    "## Introduction\n"
   ]
  },
  {
   "cell_type": "markdown",
   "metadata": {
    "id": "cKOCZlhUgXVK"
   },
   "source": [
    "This example shows how to train a [DQN (Deep Q Networks)](https://storage.googleapis.com/deepmind-media/dqn/DQNNaturePaper.pdf)  agent on the Cartpole environment using the TF-Agents library.\n",
    "\n",
    "![Cartpole environment](https://raw.githubusercontent.com/tensorflow/agents/master/docs/tutorials/images/cartpole.png)\n",
    "\n",
    "It will walk you through all the components in a Reinforcement Learning (RL) pipeline for training, evaluation and data collection.\n",
    "\n",
    "\n",
    "To run this code live, click the 'Run in Google Colab' link above.\n"
   ]
  },
  {
   "cell_type": "markdown",
   "metadata": {
    "id": "1u9QVVsShC9X"
   },
   "source": [
    "## Setup"
   ]
  },
  {
   "cell_type": "markdown",
   "metadata": {
    "id": "kNrNXKI7bINP"
   },
   "source": [
    "If you haven't installed the following dependencies, run:"
   ]
  },
  {
   "cell_type": "code",
   "execution_count": null,
   "metadata": {
    "execution": {
     "iopub.execute_input": "2021-09-29T12:18:09.461645Z",
     "iopub.status.busy": "2021-09-29T12:18:09.457756Z",
     "iopub.status.idle": "2021-09-29T12:18:26.451099Z",
     "shell.execute_reply": "2021-09-29T12:18:26.450515Z"
    },
    "id": "KEHR2Ui-lo8O"
   },
   "outputs": [],
   "source": [
    "# !sudo apt-get update\n",
    "# !sudo apt-get install -y xvfb ffmpeg freeglut3-dev\n",
    "# !pip install 'imageio==2.4.0'\n",
    "# !pip install pyvirtualdisplay\n",
    "# !pip install tf-agents[reverb]\n",
    "# !pip install pyglet"
   ]
  },
  {
   "cell_type": "code",
   "execution_count": 1,
   "metadata": {
    "execution": {
     "iopub.execute_input": "2021-09-29T12:18:26.459143Z",
     "iopub.status.busy": "2021-09-29T12:18:26.458377Z",
     "iopub.status.idle": "2021-09-29T12:18:28.978630Z",
     "shell.execute_reply": "2021-09-29T12:18:28.979073Z"
    },
    "id": "sMitx5qSgJk1"
   },
   "outputs": [],
   "source": [
    "from __future__ import absolute_import, division, print_function\n",
    "\n",
    "import base64\n",
    "# import imageio\n",
    "import IPython\n",
    "import matplotlib\n",
    "import matplotlib.pyplot as plt\n",
    "import numpy as np\n",
    "# import PIL.Image\n",
    "# import pyvirtualdisplay\n",
    "import reverb\n",
    "\n",
    "import tensorflow as tf\n",
    "\n",
    "from tf_agents.agents.dqn import dqn_agent\n",
    "from tf_agents.drivers import py_driver\n",
    "from tf_agents.environments import suite_gym\n",
    "from tf_agents.environments import tf_py_environment\n",
    "from tf_agents.eval import metric_utils\n",
    "from tf_agents.metrics import tf_metrics\n",
    "from tf_agents.networks import sequential\n",
    "from tf_agents.policies import py_tf_eager_policy\n",
    "from tf_agents.policies import random_tf_policy\n",
    "from tf_agents.replay_buffers import reverb_replay_buffer\n",
    "from tf_agents.replay_buffers import reverb_utils\n",
    "from tf_agents.trajectories import trajectory\n",
    "from tf_agents.specs import tensor_spec\n",
    "from tf_agents.utils import common"
   ]
  },
  {
   "cell_type": "code",
   "execution_count": null,
   "metadata": {
    "execution": {
     "iopub.execute_input": "2021-09-29T12:18:28.988837Z",
     "iopub.status.busy": "2021-09-29T12:18:28.983226Z",
     "iopub.status.idle": "2021-09-29T12:18:29.051303Z",
     "shell.execute_reply": "2021-09-29T12:18:29.051762Z"
    },
    "id": "J6HsdS5GbSjd"
   },
   "outputs": [],
   "source": [
    "# Set up a virtual display for rendering OpenAI gym environments.\n",
    "# display = pyvirtualdisplay.Display(visible=0, size=(1400, 900)).start()"
   ]
  },
  {
   "cell_type": "code",
   "execution_count": 2,
   "metadata": {
    "execution": {
     "iopub.execute_input": "2021-09-29T12:18:29.059432Z",
     "iopub.status.busy": "2021-09-29T12:18:29.058733Z",
     "iopub.status.idle": "2021-09-29T12:18:29.061537Z",
     "shell.execute_reply": "2021-09-29T12:18:29.061945Z"
    },
    "id": "NspmzG4nP3b9"
   },
   "outputs": [
    {
     "data": {
      "text/plain": [
       "'2.7.0'"
      ]
     },
     "execution_count": 2,
     "metadata": {},
     "output_type": "execute_result"
    }
   ],
   "source": [
    "tf.version.VERSION"
   ]
  },
  {
   "cell_type": "markdown",
   "metadata": {
    "id": "LmC0NDhdLIKY"
   },
   "source": [
    "## Hyperparameters"
   ]
  },
  {
   "cell_type": "code",
   "execution_count": 3,
   "metadata": {
    "execution": {
     "iopub.execute_input": "2021-09-29T12:18:29.067093Z",
     "iopub.status.busy": "2021-09-29T12:18:29.066347Z",
     "iopub.status.idle": "2021-09-29T12:18:29.068583Z",
     "shell.execute_reply": "2021-09-29T12:18:29.068116Z"
    },
    "id": "HC1kNrOsLSIZ"
   },
   "outputs": [],
   "source": [
    "num_iterations = 20000 # @param {type:\"integer\"}\n",
    "\n",
    "initial_collect_steps = 100  # @param {type:\"integer\"}\n",
    "collect_steps_per_iteration =   1# @param {type:\"integer\"}\n",
    "replay_buffer_max_length = 100000  # @param {type:\"integer\"}\n",
    "\n",
    "batch_size = 64  # @param {type:\"integer\"}\n",
    "learning_rate = 1e-3  # @param {type:\"number\"}\n",
    "log_interval = 200  # @param {type:\"integer\"}\n",
    "\n",
    "num_eval_episodes = 10  # @param {type:\"integer\"}\n",
    "eval_interval = 1000  # @param {type:\"integer\"}"
   ]
  },
  {
   "cell_type": "markdown",
   "metadata": {
    "id": "VMsJC3DEgI0x"
   },
   "source": [
    "## Environment\n",
    "\n",
    "In Reinforcement Learning (RL), an environment represents the task or problem to be solved. Standard environments can be created in TF-Agents using `tf_agents.environments` suites. TF-Agents has suites for loading environments from sources such as the OpenAI Gym, Atari, and DM Control.\n",
    "Load the CartPole environment from the OpenAI Gym suite. "
   ]
  },
  {
   "cell_type": "code",
   "execution_count": 5,
   "metadata": {
    "execution": {
     "iopub.execute_input": "2021-09-29T12:18:29.072624Z",
     "iopub.status.busy": "2021-09-29T12:18:29.071999Z",
     "iopub.status.idle": "2021-09-29T12:18:29.079030Z",
     "shell.execute_reply": "2021-09-29T12:18:29.078449Z"
    },
    "id": "pYEz-S9gEv2-"
   },
   "outputs": [
    {
     "name": "stdout",
     "output_type": "stream",
     "text": [
      "num_episodes: 5 num_steps: 5\n",
      "avg_length 1.0 avg_reward: 0.0\n"
     ]
    }
   ],
   "source": [
    "from __future__ import absolute_import\n",
    "from __future__ import division\n",
    "from __future__ import print_function\n",
    "\n",
    "import abc\n",
    "import tensorflow as tf\n",
    "import numpy as np\n",
    "from numpy import int32, float32\n",
    "\n",
    "from tf_agents.environments import py_environment\n",
    "from tf_agents.environments import tf_environment\n",
    "from tf_agents.environments import tf_py_environment\n",
    "from tf_agents.environments import utils\n",
    "from tf_agents.specs import array_spec\n",
    "from tf_agents.environments import wrappers\n",
    "from tf_agents.environments import suite_gym\n",
    "from tf_agents.trajectories import time_step as ts\n",
    "\n",
    "\n",
    "class PyEnvironment(object):\n",
    "\n",
    "    def reset(self):\n",
    "        \"\"\"Return initial_time_step.\"\"\"\n",
    "        self._current_time_step = self._reset()\n",
    "        return self._current_time_step\n",
    "\n",
    "    def step(self, action):\n",
    "        \"\"\"Apply action and return new time_step.\"\"\"\n",
    "        if self._current_time_step is None:\n",
    "            return self.reset()\n",
    "        self._current_time_step = self._step(action)\n",
    "        return self._current_time_step\n",
    "\n",
    "    def current_time_step(self):\n",
    "        return self._current_time_step\n",
    "\n",
    "    def time_step_spec(self):\n",
    "        \"\"\"Return time_step_spec.\"\"\"\n",
    "\n",
    "    @abc.abstractmethod\n",
    "    def observation_spec(self):\n",
    "        \"\"\"Return observation_spec.\"\"\"\n",
    "\n",
    "    @abc.abstractmethod\n",
    "    def action_spec(self):\n",
    "        \"\"\"Return action_spec.\"\"\"\n",
    "\n",
    "    @abc.abstractmethod\n",
    "    def _reset(self):\n",
    "        \"\"\"Return initial_time_step.\"\"\"\n",
    "\n",
    "    @abc.abstractmethod\n",
    "    def _step(self, action):\n",
    "        \"\"\"Apply action and return new time_step.\"\"\"\n",
    "\n",
    "        \n",
    "class SatEnv(py_environment.PyEnvironment):\n",
    "\n",
    "  def __init__(self):\n",
    "    self._action_spec = array_spec.BoundedArraySpec(\n",
    "        shape=(), dtype=np.int32, minimum=0, maximum=10, name='action')\n",
    "    self._observation_spec = array_spec.BoundedArraySpec(\n",
    "        shape=(1,), dtype=np.int32, minimum=0, name='observation')\n",
    "    self._state = 0\n",
    "    self._episode_ended = False\n",
    "    self._episode_duration = 0\n",
    "    self._max_episode_length = 20\n",
    "\n",
    "  def action_spec(self):\n",
    "    return self._action_spec\n",
    "\n",
    "  def observation_spec(self):\n",
    "    return self._observation_spec\n",
    "\n",
    "  def _reset(self):\n",
    "    # self._state = 0\n",
    "    self._episode_ended = False\n",
    "    return ts.restart(np.array([self._state], dtype=np.int32))\n",
    "\n",
    "  def _step(self, action):\n",
    "\n",
    "    reward = 0\n",
    "    if self._episode_ended:\n",
    "      # The last action ended the episode. Ignore the current action and start\n",
    "      # a new episode.\n",
    "      return self.reset()\n",
    "\n",
    "    self._episode_duration += 1\n",
    "    \n",
    "    #import pdb; pdb.set_trace() # Hands on ML, inside tf-agents also\n",
    "    # Git code, pip local\n",
    "\n",
    "    # Make sure episodes don't go on forever.\n",
    "    if action == self._state:\n",
    "        reward = 1\n",
    "\n",
    "    self._state = (self._state + 1) % 10\n",
    "    # print(self._state)\n",
    "    # print(\"reward = \", reward)\n",
    "\n",
    "\n",
    "    if self._episode_duration >= self._max_episode_length:\n",
    "        self._episode_ended = True\n",
    "        return ts.termination(np.array([self._state], dtype=np.int32), reward)\n",
    "    else:\n",
    "        return ts.transition(\n",
    "            np.array([self._state], dtype=np.int32), reward=reward, discount=1.0)\n",
    "\n",
    "\n",
    "env = SatEnv()\n",
    "utils.validate_py_environment(env, episodes=10)\n",
    "\n",
    "tf_env = tf_py_environment.TFPyEnvironment(env)\n",
    "time_step = tf_env.reset()\n",
    "rewards = []\n",
    "steps = []\n",
    "num_episodes = 5\n",
    "\n",
    "for _ in range(num_episodes):\n",
    "  episode_reward = 0\n",
    "  episode_steps = 0\n",
    "  while not time_step.is_last():\n",
    "    action = tf.random.uniform([1], 0, 2, dtype=tf.int32)\n",
    "    time_step = tf_env.step(action)\n",
    "    episode_steps += 1\n",
    "    episode_reward += time_step.reward.numpy()\n",
    "  rewards.append(episode_reward)\n",
    "  steps.append(episode_steps)\n",
    "  time_step = tf_env.reset()\n",
    "\n",
    "num_steps = np.sum(steps)\n",
    "avg_length = np.mean(steps)\n",
    "avg_reward = np.mean(rewards)\n",
    "\n",
    "print('num_episodes:', num_episodes, 'num_steps:', num_steps)\n",
    "print('avg_length', avg_length, 'avg_reward:', avg_reward)\n",
    "\n"
   ]
  },
  {
   "cell_type": "markdown",
   "metadata": {
    "id": "IIHYVBkuvPNw"
   },
   "source": [
    "You can render this environment to see how it looks. A free-swinging pole is attached to a cart.  The goal is to move the cart right or left in order to keep the pole pointing up."
   ]
  },
  {
   "cell_type": "code",
   "execution_count": 6,
   "metadata": {
    "execution": {
     "iopub.execute_input": "2021-09-29T12:18:29.084007Z",
     "iopub.status.busy": "2021-09-29T12:18:29.083346Z",
     "iopub.status.idle": "2021-09-29T12:18:29.656202Z",
     "shell.execute_reply": "2021-09-29T12:18:29.655645Z"
    },
    "id": "RlO7WIQHu_7D"
   },
   "outputs": [
    {
     "data": {
      "text/plain": [
       "TimeStep(\n",
       "{'discount': array(1., dtype=float32),\n",
       " 'observation': array([4], dtype=int32),\n",
       " 'reward': array(0., dtype=float32),\n",
       " 'step_type': array(0, dtype=int32)})"
      ]
     },
     "execution_count": 6,
     "metadata": {},
     "output_type": "execute_result"
    }
   ],
   "source": [
    "#@test {\"skip\": true}\n",
    "env.reset()\n",
    "#PIL.Image.fromarray(env.render())"
   ]
  },
  {
   "cell_type": "markdown",
   "metadata": {
    "id": "B9_lskPOey18"
   },
   "source": [
    "The `environment.step` method takes an `action` in the environment and returns a `TimeStep` tuple containing the next observation of the environment and the reward for the action.\n",
    "\n",
    "The `time_step_spec()` method returns the specification for the `TimeStep` tuple. Its `observation` attribute shows the shape of observations, the data types, and the ranges of allowed values. The `reward` attribute shows the same details for the reward.\n"
   ]
  },
  {
   "cell_type": "code",
   "execution_count": 7,
   "metadata": {
    "execution": {
     "iopub.execute_input": "2021-09-29T12:18:29.666514Z",
     "iopub.status.busy": "2021-09-29T12:18:29.665846Z",
     "iopub.status.idle": "2021-09-29T12:18:29.668705Z",
     "shell.execute_reply": "2021-09-29T12:18:29.668199Z"
    },
    "id": "exDv57iHfwQV"
   },
   "outputs": [
    {
     "name": "stdout",
     "output_type": "stream",
     "text": [
      "Observation Spec:\n",
      "BoundedArraySpec(shape=(1,), dtype=dtype('int32'), name='observation', minimum=0, maximum=2147483647)\n"
     ]
    }
   ],
   "source": [
    "print('Observation Spec:')\n",
    "print(env.time_step_spec().observation)"
   ]
  },
  {
   "cell_type": "code",
   "execution_count": 8,
   "metadata": {
    "execution": {
     "iopub.execute_input": "2021-09-29T12:18:29.673630Z",
     "iopub.status.busy": "2021-09-29T12:18:29.672934Z",
     "iopub.status.idle": "2021-09-29T12:18:29.676023Z",
     "shell.execute_reply": "2021-09-29T12:18:29.675527Z"
    },
    "id": "UxiSyCbBUQPi"
   },
   "outputs": [
    {
     "name": "stdout",
     "output_type": "stream",
     "text": [
      "Reward Spec:\n",
      "ArraySpec(shape=(), dtype=dtype('float32'), name='reward')\n"
     ]
    }
   ],
   "source": [
    "print('Reward Spec:')\n",
    "print(env.time_step_spec().reward)"
   ]
  },
  {
   "cell_type": "markdown",
   "metadata": {
    "id": "b_lHcIcqUaqB"
   },
   "source": [
    "The `action_spec()` method returns the shape, data types, and allowed values of valid actions."
   ]
  },
  {
   "cell_type": "code",
   "execution_count": 9,
   "metadata": {
    "execution": {
     "iopub.execute_input": "2021-09-29T12:18:29.680665Z",
     "iopub.status.busy": "2021-09-29T12:18:29.679897Z",
     "iopub.status.idle": "2021-09-29T12:18:29.682489Z",
     "shell.execute_reply": "2021-09-29T12:18:29.682921Z"
    },
    "id": "bttJ4uxZUQBr"
   },
   "outputs": [
    {
     "name": "stdout",
     "output_type": "stream",
     "text": [
      "Action Spec:\n",
      "BoundedArraySpec(shape=(), dtype=dtype('int32'), name='action', minimum=0, maximum=10)\n"
     ]
    }
   ],
   "source": [
    "print('Action Spec:')\n",
    "print(env.action_spec())"
   ]
  },
  {
   "cell_type": "markdown",
   "metadata": {
    "id": "eJCgJnx3g0yY"
   },
   "source": [
    "In the Cartpole environment:\n",
    "\n",
    "-   `observation` is an array of 4 floats: \n",
    "    -   the position and velocity of the cart\n",
    "    -   the angular position and velocity of the pole \n",
    "-   `reward` is a scalar float value\n",
    "-   `action` is a scalar integer with only two possible values:\n",
    "    -   `0` — \"move left\"\n",
    "    -   `1` — \"move right\"\n"
   ]
  },
  {
   "cell_type": "code",
   "execution_count": 10,
   "metadata": {
    "execution": {
     "iopub.execute_input": "2021-09-29T12:18:29.691706Z",
     "iopub.status.busy": "2021-09-29T12:18:29.690994Z",
     "iopub.status.idle": "2021-09-29T12:18:29.693556Z",
     "shell.execute_reply": "2021-09-29T12:18:29.693968Z"
    },
    "id": "V2UGR5t_iZX-"
   },
   "outputs": [
    {
     "name": "stdout",
     "output_type": "stream",
     "text": [
      "Time step:\n",
      "TimeStep(\n",
      "{'discount': array(1., dtype=float32),\n",
      " 'observation': array([4], dtype=int32),\n",
      " 'reward': array(0., dtype=float32),\n",
      " 'step_type': array(0, dtype=int32)})\n",
      "Next time step:\n",
      "TimeStep(\n",
      "{'discount': array(0., dtype=float32),\n",
      " 'observation': array([5], dtype=int32),\n",
      " 'reward': array(0., dtype=float32),\n",
      " 'step_type': array(2, dtype=int32)})\n"
     ]
    }
   ],
   "source": [
    "time_step = env.reset()\n",
    "print('Time step:')\n",
    "print(time_step)\n",
    "\n",
    "action = np.array(1, dtype=np.int32)\n",
    "\n",
    "next_time_step = env.step(action)\n",
    "print('Next time step:')\n",
    "print(next_time_step)"
   ]
  },
  {
   "cell_type": "markdown",
   "metadata": {
    "id": "4JSc9GviWUBK"
   },
   "source": [
    "Usually two environments are instantiated: one for training and one for evaluation. "
   ]
  },
  {
   "cell_type": "code",
   "execution_count": 11,
   "metadata": {
    "execution": {
     "iopub.execute_input": "2021-09-29T12:18:29.700960Z",
     "iopub.status.busy": "2021-09-29T12:18:29.699585Z",
     "iopub.status.idle": "2021-09-29T12:18:29.702765Z",
     "shell.execute_reply": "2021-09-29T12:18:29.703225Z"
    },
    "id": "N7brXNIGWXjC"
   },
   "outputs": [],
   "source": [
    "train_py_env = env\n",
    "eval_py_env = env"
   ]
  },
  {
   "cell_type": "markdown",
   "metadata": {
    "id": "zuUqXAVmecTU"
   },
   "source": [
    "The Cartpole environment, like most environments, is written in pure Python. This is converted to TensorFlow using the `TFPyEnvironment` wrapper.\n",
    "\n",
    "The original environment's API uses Numpy arrays. The `TFPyEnvironment` converts these to `Tensors` to make it compatible with Tensorflow agents and policies.\n"
   ]
  },
  {
   "cell_type": "code",
   "execution_count": 12,
   "metadata": {
    "execution": {
     "iopub.execute_input": "2021-09-29T12:18:29.709094Z",
     "iopub.status.busy": "2021-09-29T12:18:29.708120Z",
     "iopub.status.idle": "2021-09-29T12:18:29.714433Z",
     "shell.execute_reply": "2021-09-29T12:18:29.713860Z"
    },
    "id": "Xp-Y4mD6eDhF"
   },
   "outputs": [],
   "source": [
    "train_env = tf_py_environment.TFPyEnvironment(train_py_env)\n",
    "eval_env = tf_py_environment.TFPyEnvironment(eval_py_env)"
   ]
  },
  {
   "cell_type": "markdown",
   "metadata": {
    "id": "E9lW_OZYFR8A"
   },
   "source": [
    "## Agent\n",
    "\n",
    "The algorithm used to solve an RL problem is represented by an `Agent`. TF-Agents provides standard implementations of a variety of `Agents`, including:\n",
    "\n",
    "-   [DQN](https://storage.googleapis.com/deepmind-media/dqn/DQNNaturePaper.pdf) (used in this tutorial)\n",
    "-   [REINFORCE](https://www-anw.cs.umass.edu/~barto/courses/cs687/williams92simple.pdf)\n",
    "-   [DDPG](https://arxiv.org/pdf/1509.02971.pdf)\n",
    "-   [TD3](https://arxiv.org/pdf/1802.09477.pdf)\n",
    "-   [PPO](https://arxiv.org/abs/1707.06347)\n",
    "-   [SAC](https://arxiv.org/abs/1801.01290)\n",
    "\n",
    "The DQN agent can be used in any environment which has a discrete action space.\n",
    "\n",
    "At the heart of a DQN Agent is a `QNetwork`, a neural network model that can learn to predict `QValues` (expected returns) for all actions, given an observation from the environment.\n",
    "\n",
    "We will use `tf_agents.networks.` to create a `QNetwork`. The network will consist of a sequence of `tf.keras.layers.Dense` layers, where the final layer will have 1 output for each possible action."
   ]
  },
  {
   "cell_type": "code",
   "execution_count": 13,
   "metadata": {
    "execution": {
     "iopub.execute_input": "2021-09-29T12:18:29.723529Z",
     "iopub.status.busy": "2021-09-29T12:18:29.721782Z",
     "iopub.status.idle": "2021-09-29T12:18:29.741288Z",
     "shell.execute_reply": "2021-09-29T12:18:29.741683Z"
    },
    "id": "TgkdEPg_muzV"
   },
   "outputs": [],
   "source": [
    "fc_layer_params = (100, 50)\n",
    "action_tensor_spec = tensor_spec.from_spec(env.action_spec())\n",
    "num_actions = action_tensor_spec.maximum - action_tensor_spec.minimum + 1\n",
    "\n",
    "# Define a helper function to create Dense layers configured with the right\n",
    "# activation and kernel initializer.\n",
    "def dense_layer(num_units):\n",
    "  return tf.keras.layers.Dense(\n",
    "      num_units,\n",
    "      activation=tf.keras.activations.relu,\n",
    "      kernel_initializer=tf.keras.initializers.VarianceScaling(\n",
    "          scale=2.0, mode='fan_in', distribution='truncated_normal'))\n",
    "\n",
    "# QNetwork consists of a sequence of Dense layers followed by a dense layer\n",
    "# with `num_actions` units to generate one q_value per available action as\n",
    "# its output.\n",
    "dense_layers = [dense_layer(num_units) for num_units in fc_layer_params]\n",
    "q_values_layer = tf.keras.layers.Dense(\n",
    "    num_actions,\n",
    "    activation=None,\n",
    "    kernel_initializer=tf.keras.initializers.RandomUniform(\n",
    "        minval=-0.03, maxval=0.03),\n",
    "    bias_initializer=tf.keras.initializers.Constant(-0.2))\n",
    "q_net = sequential.Sequential(dense_layers + [q_values_layer])"
   ]
  },
  {
   "cell_type": "markdown",
   "metadata": {
    "id": "z62u55hSmviJ"
   },
   "source": [
    "Now use `tf_agents.agents.dqn.dqn_agent` to instantiate a `DqnAgent`. In addition to the `time_step_spec`, `action_spec` and the QNetwork, the agent constructor also requires an optimizer (in this case, `AdamOptimizer`), a loss function, and an integer step counter."
   ]
  },
  {
   "cell_type": "code",
   "execution_count": 14,
   "metadata": {
    "execution": {
     "iopub.execute_input": "2021-09-29T12:18:31.430740Z",
     "iopub.status.busy": "2021-09-29T12:18:31.126752Z",
     "iopub.status.idle": "2021-09-29T12:18:31.892899Z",
     "shell.execute_reply": "2021-09-29T12:18:31.892316Z"
    },
    "id": "jbY4yrjTEyc9"
   },
   "outputs": [],
   "source": [
    "optimizer = tf.keras.optimizers.Adam(learning_rate=learning_rate)\n",
    "\n",
    "train_step_counter = tf.Variable(0)\n",
    "\n",
    "agent = dqn_agent.DqnAgent(\n",
    "    train_env.time_step_spec(),\n",
    "    train_env.action_spec(),\n",
    "    q_network=q_net,\n",
    "    optimizer=optimizer,\n",
    "    td_errors_loss_fn=common.element_wise_squared_loss,\n",
    "    train_step_counter=train_step_counter)\n",
    "\n",
    "agent.initialize()"
   ]
  },
  {
   "cell_type": "markdown",
   "metadata": {
    "id": "I0KLrEPwkn5x"
   },
   "source": [
    "## Policies\n",
    "\n",
    "A policy defines the way an agent acts in an environment. Typically, the goal of reinforcement learning is to train the underlying model until the policy produces the desired outcome.\n",
    "\n",
    "In this tutorial:\n",
    "\n",
    "-   The desired outcome is keeping the pole balanced upright over the cart.\n",
    "-   The policy returns an action (left or right) for each `time_step` observation.\n",
    "\n",
    "Agents contain two policies: \n",
    "\n",
    "-   `agent.policy` — The main policy that is used for evaluation and deployment.\n",
    "-   `agent.collect_policy` — A second policy that is used for data collection.\n"
   ]
  },
  {
   "cell_type": "code",
   "execution_count": 15,
   "metadata": {
    "execution": {
     "iopub.execute_input": "2021-09-29T12:18:31.897610Z",
     "iopub.status.busy": "2021-09-29T12:18:31.896972Z",
     "iopub.status.idle": "2021-09-29T12:18:31.899396Z",
     "shell.execute_reply": "2021-09-29T12:18:31.898941Z"
    },
    "id": "BwY7StuMkuV4"
   },
   "outputs": [],
   "source": [
    "eval_policy = agent.policy\n",
    "collect_policy = agent.collect_policy"
   ]
  },
  {
   "cell_type": "markdown",
   "metadata": {
    "id": "2Qs1Fl3dV0ae"
   },
   "source": [
    "Policies can be created independently of agents. For example, use `tf_agents.policies.random_tf_policy` to create a policy which will randomly select an action for each `time_step`."
   ]
  },
  {
   "cell_type": "code",
   "execution_count": 16,
   "metadata": {
    "execution": {
     "iopub.execute_input": "2021-09-29T12:18:31.904090Z",
     "iopub.status.busy": "2021-09-29T12:18:31.903426Z",
     "iopub.status.idle": "2021-09-29T12:18:31.905901Z",
     "shell.execute_reply": "2021-09-29T12:18:31.905428Z"
    },
    "id": "HE37-UCIrE69"
   },
   "outputs": [],
   "source": [
    "random_policy = random_tf_policy.RandomTFPolicy(train_env.time_step_spec(),\n",
    "                                                train_env.action_spec())"
   ]
  },
  {
   "cell_type": "markdown",
   "metadata": {
    "id": "dOlnlRRsUbxP"
   },
   "source": [
    "To get an action from a policy, call the `policy.action(time_step)` method. The `time_step` contains the observation from the environment. This method returns a `PolicyStep`, which is a named tuple with three components:\n",
    "\n",
    "-   `action` — the action to be taken (in this case, `0` or `1`)\n",
    "-   `state` — used for stateful (that is, RNN-based) policies\n",
    "-   `info` — auxiliary data, such as log probabilities of actions"
   ]
  },
  {
   "cell_type": "code",
   "execution_count": 17,
   "metadata": {
    "execution": {
     "iopub.execute_input": "2021-09-29T12:18:31.912250Z",
     "iopub.status.busy": "2021-09-29T12:18:31.911622Z",
     "iopub.status.idle": "2021-09-29T12:18:31.915308Z",
     "shell.execute_reply": "2021-09-29T12:18:31.914860Z"
    },
    "id": "5gCcpXswVAxk"
   },
   "outputs": [],
   "source": [
    "example_environment = tf_py_environment.TFPyEnvironment(\n",
    "    env)"
   ]
  },
  {
   "cell_type": "code",
   "execution_count": 18,
   "metadata": {
    "execution": {
     "iopub.execute_input": "2021-09-29T12:18:31.920437Z",
     "iopub.status.busy": "2021-09-29T12:18:31.919763Z",
     "iopub.status.idle": "2021-09-29T12:18:31.922888Z",
     "shell.execute_reply": "2021-09-29T12:18:31.922412Z"
    },
    "id": "D4DHZtq3Ndis"
   },
   "outputs": [],
   "source": [
    "time_step = example_environment.reset()"
   ]
  },
  {
   "cell_type": "code",
   "execution_count": 19,
   "metadata": {
    "execution": {
     "iopub.execute_input": "2021-09-29T12:18:31.927772Z",
     "iopub.status.busy": "2021-09-29T12:18:31.926565Z",
     "iopub.status.idle": "2021-09-29T12:18:31.933402Z",
     "shell.execute_reply": "2021-09-29T12:18:31.932954Z"
    },
    "id": "PRFqAUzpNaAW"
   },
   "outputs": [
    {
     "data": {
      "text/plain": [
       "PolicyStep(action=<tf.Tensor: shape=(1,), dtype=int32, numpy=array([4], dtype=int32)>, state=(), info=())"
      ]
     },
     "execution_count": 19,
     "metadata": {},
     "output_type": "execute_result"
    }
   ],
   "source": [
    "random_policy.action(time_step)"
   ]
  },
  {
   "cell_type": "markdown",
   "metadata": {
    "id": "94rCXQtbUbXv"
   },
   "source": [
    "## Metrics and Evaluation\n",
    "\n",
    "The most common metric used to evaluate a policy is the average return. The return is the sum of rewards obtained while running a policy in an environment for an episode. Several episodes are run, creating an average return.\n",
    "\n",
    "The following function computes the average return of a policy, given the policy, environment, and a number of episodes.\n"
   ]
  },
  {
   "cell_type": "code",
   "execution_count": 20,
   "metadata": {
    "execution": {
     "iopub.execute_input": "2021-09-29T12:18:31.938973Z",
     "iopub.status.busy": "2021-09-29T12:18:31.938317Z",
     "iopub.status.idle": "2021-09-29T12:18:31.940967Z",
     "shell.execute_reply": "2021-09-29T12:18:31.940505Z"
    },
    "id": "bitzHo5_UbXy"
   },
   "outputs": [],
   "source": [
    "#@test {\"skip\": true}\n",
    "def compute_avg_return(environment, policy, num_episodes=10):\n",
    "\n",
    "  total_return = 0.0\n",
    "  for _ in range(num_episodes):\n",
    "\n",
    "    time_step = environment.reset()\n",
    "    episode_return = 0.0\n",
    "\n",
    "    while not time_step.is_last():\n",
    "      action_step = policy.action(time_step)\n",
    "      time_step = environment.step(action_step.action)\n",
    "      episode_return += time_step.reward\n",
    "    total_return += episode_return\n",
    "\n",
    "  avg_return = total_return / num_episodes\n",
    "  return avg_return.numpy()[0]\n",
    "\n",
    "\n",
    "# See also the metrics module for standard implementations of different metrics.\n",
    "# https://github.com/tensorflow/agents/tree/master/tf_agents/metrics"
   ]
  },
  {
   "cell_type": "markdown",
   "metadata": {
    "id": "_snCVvq5Z8lJ"
   },
   "source": [
    "Running this computation on the `random_policy` shows a baseline performance in the environment."
   ]
  },
  {
   "cell_type": "code",
   "execution_count": 21,
   "metadata": {
    "execution": {
     "iopub.execute_input": "2021-09-29T12:18:31.946328Z",
     "iopub.status.busy": "2021-09-29T12:18:31.945713Z",
     "iopub.status.idle": "2021-09-29T12:18:32.524300Z",
     "shell.execute_reply": "2021-09-29T12:18:32.524733Z"
    },
    "id": "9bgU6Q6BZ8Bp"
   },
   "outputs": [
    {
     "data": {
      "text/plain": [
       "0.2"
      ]
     },
     "execution_count": 21,
     "metadata": {},
     "output_type": "execute_result"
    }
   ],
   "source": [
    "compute_avg_return(eval_env, random_policy, num_eval_episodes)"
   ]
  },
  {
   "cell_type": "markdown",
   "metadata": {
    "id": "NLva6g2jdWgr"
   },
   "source": [
    "## Replay Buffer\n",
    "\n",
    "In order to keep track of the data collected from the environment, we will use [Reverb](https://deepmind.com/research/open-source/Reverb), an efficient, extensible, and easy-to-use replay system by Deepmind. It stores experience data when we collect trajectories and is consumed during training.\n",
    "\n",
    "This replay buffer is constructed using specs describing the tensors that are to be stored, which can be obtained from the agent using agent.collect_data_spec.\n"
   ]
  },
  {
   "cell_type": "code",
   "execution_count": 22,
   "metadata": {
    "execution": {
     "iopub.execute_input": "2021-09-29T12:18:32.534098Z",
     "iopub.status.busy": "2021-09-29T12:18:32.533425Z",
     "iopub.status.idle": "2021-09-29T12:18:32.592073Z",
     "shell.execute_reply": "2021-09-29T12:18:32.591585Z"
    },
    "id": "vX2zGUWJGWAl"
   },
   "outputs": [],
   "source": [
    "table_name = 'uniform_table'\n",
    "replay_buffer_signature = tensor_spec.from_spec(\n",
    "      agent.collect_data_spec)\n",
    "replay_buffer_signature = tensor_spec.add_outer_dim(\n",
    "    replay_buffer_signature)\n",
    "\n",
    "table = reverb.Table(\n",
    "    table_name,\n",
    "    max_size=replay_buffer_max_length,\n",
    "    sampler=reverb.selectors.Uniform(),\n",
    "    remover=reverb.selectors.Fifo(),\n",
    "    rate_limiter=reverb.rate_limiters.MinSize(1),\n",
    "    signature=replay_buffer_signature)\n",
    "\n",
    "reverb_server = reverb.Server([table])\n",
    "\n",
    "replay_buffer = reverb_replay_buffer.ReverbReplayBuffer(\n",
    "    agent.collect_data_spec,\n",
    "    table_name=table_name,\n",
    "    sequence_length=2,\n",
    "    local_server=reverb_server)\n",
    "\n",
    "rb_observer = reverb_utils.ReverbAddTrajectoryObserver(\n",
    "  replay_buffer.py_client,\n",
    "  table_name,\n",
    "  sequence_length=2)"
   ]
  },
  {
   "cell_type": "markdown",
   "metadata": {
    "id": "ZGNTDJpZs4NN"
   },
   "source": [
    "For most agents, `collect_data_spec` is a named tuple called `Trajectory`, containing the specs for observations, actions, rewards, and other items."
   ]
  },
  {
   "cell_type": "code",
   "execution_count": 23,
   "metadata": {
    "execution": {
     "iopub.execute_input": "2021-09-29T12:18:32.599179Z",
     "iopub.status.busy": "2021-09-29T12:18:32.598443Z",
     "iopub.status.idle": "2021-09-29T12:18:32.602124Z",
     "shell.execute_reply": "2021-09-29T12:18:32.601537Z"
    },
    "id": "_IZ-3HcqgE1z"
   },
   "outputs": [
    {
     "data": {
      "text/plain": [
       "Trajectory(\n",
       "{'action': BoundedTensorSpec(shape=(), dtype=tf.int32, name='action', minimum=array(0, dtype=int32), maximum=array(10, dtype=int32)),\n",
       " 'discount': BoundedTensorSpec(shape=(), dtype=tf.float32, name='discount', minimum=array(0., dtype=float32), maximum=array(1., dtype=float32)),\n",
       " 'next_step_type': TensorSpec(shape=(), dtype=tf.int32, name='step_type'),\n",
       " 'observation': BoundedTensorSpec(shape=(1,), dtype=tf.int32, name='observation', minimum=array(0, dtype=int32), maximum=array(2147483647, dtype=int32)),\n",
       " 'policy_info': (),\n",
       " 'reward': TensorSpec(shape=(), dtype=tf.float32, name='reward'),\n",
       " 'step_type': TensorSpec(shape=(), dtype=tf.int32, name='step_type')})"
      ]
     },
     "execution_count": 23,
     "metadata": {},
     "output_type": "execute_result"
    }
   ],
   "source": [
    "agent.collect_data_spec"
   ]
  },
  {
   "cell_type": "code",
   "execution_count": 24,
   "metadata": {
    "execution": {
     "iopub.execute_input": "2021-09-29T12:18:32.606800Z",
     "iopub.status.busy": "2021-09-29T12:18:32.606124Z",
     "iopub.status.idle": "2021-09-29T12:18:32.609584Z",
     "shell.execute_reply": "2021-09-29T12:18:32.609122Z"
    },
    "id": "sy6g1tGcfRlw"
   },
   "outputs": [
    {
     "data": {
      "text/plain": [
       "('step_type',\n",
       " 'observation',\n",
       " 'action',\n",
       " 'policy_info',\n",
       " 'next_step_type',\n",
       " 'reward',\n",
       " 'discount')"
      ]
     },
     "execution_count": 24,
     "metadata": {},
     "output_type": "execute_result"
    }
   ],
   "source": [
    "agent.collect_data_spec._fields"
   ]
  },
  {
   "cell_type": "markdown",
   "metadata": {
    "id": "rVD5nQ9ZGo8_"
   },
   "source": [
    "## Data Collection\n",
    "\n",
    "Now execute the random policy in the environment for a few steps, recording the data in the replay buffer.\n",
    "\n",
    "Here we are using 'PyDriver' to run the experience collecting loop. You can learn more about TF Agents driver in our [drivers tutorial](https://www.tensorflow.org/agents/tutorials/4_drivers_tutorial)."
   ]
  },
  {
   "cell_type": "code",
   "execution_count": 25,
   "metadata": {
    "execution": {
     "iopub.execute_input": "2021-09-29T12:18:32.620962Z",
     "iopub.status.busy": "2021-09-29T12:18:32.620324Z",
     "iopub.status.idle": "2021-09-29T12:18:32.846174Z",
     "shell.execute_reply": "2021-09-29T12:18:32.846597Z"
    },
    "id": "wr1KSAEGG4h9"
   },
   "outputs": [
    {
     "data": {
      "text/plain": [
       "(TimeStep(\n",
       " {'discount': array(0., dtype=float32),\n",
       "  'observation': array([5], dtype=int32),\n",
       "  'reward': array(1., dtype=float32),\n",
       "  'step_type': array(2, dtype=int32)}),\n",
       " ())"
      ]
     },
     "execution_count": 25,
     "metadata": {},
     "output_type": "execute_result"
    }
   ],
   "source": [
    "#@test {\"skip\": true}\n",
    "py_driver.PyDriver(\n",
    "    env,\n",
    "    py_tf_eager_policy.PyTFEagerPolicy(\n",
    "      random_policy, use_tf_function=True),\n",
    "    [rb_observer],\n",
    "    max_steps=initial_collect_steps).run(train_py_env.reset())"
   ]
  },
  {
   "cell_type": "markdown",
   "metadata": {
    "id": "84z5pQJdoKxo"
   },
   "source": [
    "The replay buffer is now a collection of Trajectories."
   ]
  },
  {
   "cell_type": "code",
   "execution_count": 26,
   "metadata": {
    "execution": {
     "iopub.execute_input": "2021-09-29T12:18:32.851051Z",
     "iopub.status.busy": "2021-09-29T12:18:32.850261Z",
     "iopub.status.idle": "2021-09-29T12:18:32.852779Z",
     "shell.execute_reply": "2021-09-29T12:18:32.852288Z"
    },
    "id": "4wZnLu2ViO4E"
   },
   "outputs": [],
   "source": [
    "# For the curious:\n",
    "# Uncomment to peel one of these off and inspect it.\n",
    "# iter(replay_buffer.as_dataset()).next()"
   ]
  },
  {
   "cell_type": "markdown",
   "metadata": {
    "id": "TujU-PMUsKjS"
   },
   "source": [
    "The agent needs access to the replay buffer. This is provided by creating an iterable `tf.data.Dataset` pipeline which will feed data to the agent.\n",
    "\n",
    "Each row of the replay buffer only stores a single observation step. But since the DQN Agent needs both the current and next observation to compute the loss, the dataset pipeline will sample two adjacent rows for each item in the batch (`num_steps=2`).\n",
    "\n",
    "This dataset is also optimized by running parallel calls and prefetching data."
   ]
  },
  {
   "cell_type": "code",
   "execution_count": 27,
   "metadata": {
    "execution": {
     "iopub.execute_input": "2021-09-29T12:18:32.886246Z",
     "iopub.status.busy": "2021-09-29T12:18:32.870593Z",
     "iopub.status.idle": "2021-09-29T12:18:33.193567Z",
     "shell.execute_reply": "2021-09-29T12:18:33.193043Z"
    },
    "id": "ba7bilizt_qW"
   },
   "outputs": [
    {
     "data": {
      "text/plain": [
       "<PrefetchDataset shapes: (Trajectory(\n",
       "{action: (64, 2),\n",
       " discount: (64, 2),\n",
       " next_step_type: (64, 2),\n",
       " observation: (64, 2, 1),\n",
       " policy_info: (),\n",
       " reward: (64, 2),\n",
       " step_type: (64, 2)}), SampleInfo(key=(64, 2), probability=(64, 2), table_size=(64, 2), priority=(64, 2))), types: (Trajectory(\n",
       "{action: tf.int32,\n",
       " discount: tf.float32,\n",
       " next_step_type: tf.int32,\n",
       " observation: tf.int32,\n",
       " policy_info: (),\n",
       " reward: tf.float32,\n",
       " step_type: tf.int32}), SampleInfo(key=tf.uint64, probability=tf.float64, table_size=tf.int64, priority=tf.float64))>"
      ]
     },
     "execution_count": 27,
     "metadata": {},
     "output_type": "execute_result"
    }
   ],
   "source": [
    "# Dataset generates trajectories with shape [Bx2x...]\n",
    "dataset = replay_buffer.as_dataset(\n",
    "    num_parallel_calls=3,\n",
    "    sample_batch_size=batch_size,\n",
    "    num_steps=2).prefetch(3)\n",
    "\n",
    "dataset"
   ]
  },
  {
   "cell_type": "code",
   "execution_count": 28,
   "metadata": {
    "execution": {
     "iopub.execute_input": "2021-09-29T12:18:33.198233Z",
     "iopub.status.busy": "2021-09-29T12:18:33.197570Z",
     "iopub.status.idle": "2021-09-29T12:18:33.250249Z",
     "shell.execute_reply": "2021-09-29T12:18:33.249705Z"
    },
    "id": "K13AST-2ppOq"
   },
   "outputs": [
    {
     "name": "stdout",
     "output_type": "stream",
     "text": [
      "<tensorflow.python.data.ops.iterator_ops.OwnedIterator object at 0x7ff6b40ec400>\n"
     ]
    }
   ],
   "source": [
    "iterator = iter(dataset)\n",
    "print(iterator)"
   ]
  },
  {
   "cell_type": "code",
   "execution_count": 29,
   "metadata": {
    "execution": {
     "iopub.execute_input": "2021-09-29T12:18:33.254566Z",
     "iopub.status.busy": "2021-09-29T12:18:33.253844Z",
     "iopub.status.idle": "2021-09-29T12:18:33.255982Z",
     "shell.execute_reply": "2021-09-29T12:18:33.256368Z"
    },
    "id": "Th5w5Sff0b16"
   },
   "outputs": [],
   "source": [
    "# For the curious:\n",
    "# Uncomment to see what the dataset iterator is feeding to the agent.\n",
    "# Compare this representation of replay data \n",
    "# to the collection of individual trajectories shown earlier.\n",
    "\n",
    "# iterator.next()"
   ]
  },
  {
   "cell_type": "markdown",
   "metadata": {
    "id": "hBc9lj9VWWtZ"
   },
   "source": [
    "## Training the agent\n",
    "\n",
    "Two things must happen during the training loop:\n",
    "\n",
    "-   collect data from the environment\n",
    "-   use that data to train the agent's neural network(s)\n",
    "\n",
    "This example also periodicially evaluates the policy and prints the current score.\n",
    "\n",
    "The following will take ~5 minutes to run."
   ]
  },
  {
   "cell_type": "code",
   "execution_count": 30,
   "metadata": {
    "execution": {
     "iopub.execute_input": "2021-09-29T12:18:33.268155Z",
     "iopub.status.busy": "2021-09-29T12:18:33.266196Z",
     "iopub.status.idle": "2021-09-29T12:23:32.202553Z",
     "shell.execute_reply": "2021-09-29T12:23:32.201984Z"
    },
    "id": "0pTbJ3PeyF-u"
   },
   "outputs": [
    {
     "name": "stdout",
     "output_type": "stream",
     "text": [
      "WARNING:tensorflow:From /home/sgboakes/anaconda3/envs/rl/lib/python3.9/site-packages/tensorflow/python/util/dispatch.py:1096: calling foldr_v2 (from tensorflow.python.ops.functional_ops) with back_prop=False is deprecated and will be removed in a future version.\n",
      "Instructions for updating:\n",
      "back_prop=False is deprecated. Consider using tf.stop_gradient instead.\n",
      "Instead of:\n",
      "results = tf.foldr(fn, elems, back_prop=False)\n",
      "Use:\n",
      "results = tf.nest.map_structure(tf.stop_gradient, tf.foldr(fn, elems))\n",
      "step = 200: loss = 0.084617480635643\n",
      "step = 400: loss = 0.06329473108053207\n",
      "step = 600: loss = 0.10807321220636368\n",
      "step = 800: loss = 0.09729093313217163\n",
      "step = 1000: loss = 0.1353815197944641\n",
      "step = 1000: Average Return = 0.6000000238418579\n",
      "step = 1200: loss = 0.10395745933055878\n",
      "step = 1400: loss = 0.08138230443000793\n",
      "step = 1600: loss = 0.0637677013874054\n",
      "step = 1800: loss = 0.09462858736515045\n",
      "step = 2000: loss = 0.1274060308933258\n",
      "step = 2000: Average Return = 0.6000000238418579\n",
      "step = 2200: loss = 0.09940746426582336\n",
      "step = 2400: loss = 0.08326347172260284\n",
      "step = 2600: loss = 0.09169809520244598\n",
      "step = 2800: loss = 0.06497833132743835\n",
      "step = 3000: loss = 0.08386629819869995\n",
      "step = 3000: Average Return = 0.699999988079071\n",
      "step = 3200: loss = 0.10106975585222244\n",
      "step = 3400: loss = 0.08612463623285294\n",
      "step = 3600: loss = 0.09054684638977051\n",
      "step = 3800: loss = 0.05743507295846939\n",
      "step = 4000: loss = 0.0690358504652977\n",
      "step = 4000: Average Return = 0.8999999761581421\n",
      "step = 4200: loss = 0.06360669434070587\n",
      "step = 4400: loss = 0.03966439887881279\n",
      "step = 4600: loss = 0.06608887016773224\n",
      "step = 4800: loss = 0.07163793593645096\n",
      "step = 5000: loss = 0.05521499365568161\n",
      "step = 5000: Average Return = 1.0\n",
      "step = 5200: loss = 0.03760905563831329\n",
      "step = 5400: loss = 0.02146894484758377\n",
      "step = 5600: loss = 0.03367665037512779\n",
      "step = 5800: loss = 0.04568420350551605\n",
      "step = 6000: loss = 0.05291031301021576\n",
      "step = 6000: Average Return = 1.0\n",
      "step = 6200: loss = 0.04581287130713463\n",
      "step = 6400: loss = 0.0185927115380764\n",
      "step = 6600: loss = 0.023714611306786537\n",
      "step = 6800: loss = 0.02652757242321968\n",
      "step = 7000: loss = 0.023514816537499428\n",
      "step = 7000: Average Return = 1.0\n",
      "step = 7200: loss = 0.03085167333483696\n",
      "step = 7400: loss = 0.050880078226327896\n",
      "step = 7600: loss = 0.022695396095514297\n",
      "step = 7800: loss = 0.015629319474101067\n",
      "step = 8000: loss = 0.027340881526470184\n",
      "step = 8000: Average Return = 1.0\n",
      "step = 8200: loss = 0.02467258647084236\n",
      "step = 8400: loss = 0.03801500424742699\n",
      "step = 8600: loss = 0.022771697491407394\n",
      "step = 8800: loss = 0.01757633127272129\n",
      "step = 9000: loss = 0.034779004752635956\n",
      "step = 9000: Average Return = 0.8999999761581421\n",
      "step = 9200: loss = 0.014569186605513096\n",
      "step = 9400: loss = 0.04607579857110977\n",
      "step = 9600: loss = 0.017428243532776833\n",
      "step = 9800: loss = 0.015108227729797363\n",
      "step = 10000: loss = 0.01525774598121643\n",
      "step = 10000: Average Return = 1.0\n",
      "step = 10200: loss = 0.011841360479593277\n",
      "step = 10400: loss = 0.009050264954566956\n",
      "step = 10600: loss = 0.016497258096933365\n",
      "step = 10800: loss = 0.01675717532634735\n",
      "step = 11000: loss = 0.007156196516007185\n",
      "step = 11000: Average Return = 1.0\n",
      "step = 11200: loss = 0.020162904635071754\n",
      "step = 11400: loss = 0.03252781927585602\n",
      "step = 11600: loss = 0.03107675351202488\n",
      "step = 11800: loss = 0.021948259323835373\n",
      "step = 12000: loss = 0.032491616904735565\n",
      "step = 12000: Average Return = 1.0\n",
      "step = 12200: loss = 0.034694548696279526\n",
      "step = 12400: loss = 0.004871842451393604\n",
      "step = 12600: loss = 0.013357669115066528\n",
      "step = 12800: loss = 0.005000383127480745\n",
      "step = 13000: loss = 0.0156850665807724\n",
      "step = 13000: Average Return = 1.0\n",
      "step = 13200: loss = 0.02078397199511528\n",
      "step = 13400: loss = 0.020054854452610016\n",
      "step = 13600: loss = 0.00912560150027275\n",
      "step = 13800: loss = 0.018115924671292305\n",
      "step = 14000: loss = 0.007553993258625269\n",
      "step = 14000: Average Return = 1.0\n",
      "step = 14200: loss = 0.013886027969419956\n",
      "step = 14400: loss = 0.022217197343707085\n",
      "step = 14600: loss = 0.017730077728629112\n",
      "step = 14800: loss = 0.015602749772369862\n",
      "step = 15000: loss = 0.025319917127490044\n",
      "step = 15000: Average Return = 1.0\n",
      "step = 15200: loss = 0.001611816929653287\n",
      "step = 15400: loss = 0.0059500341303646564\n",
      "step = 15600: loss = 0.010842520743608475\n",
      "step = 15800: loss = 0.010872725397348404\n",
      "step = 16000: loss = 0.00968041643500328\n",
      "step = 16000: Average Return = 1.0\n",
      "step = 16200: loss = 0.0020071123726665974\n",
      "step = 16400: loss = 0.013720400631427765\n",
      "step = 16600: loss = 0.009031187742948532\n",
      "step = 16800: loss = 0.02963549643754959\n",
      "step = 17000: loss = 0.016178742051124573\n",
      "step = 17000: Average Return = 1.0\n",
      "step = 17200: loss = 0.007687386125326157\n",
      "step = 17400: loss = 0.015483311377465725\n",
      "step = 17600: loss = 0.009147214703261852\n",
      "step = 17800: loss = 0.016206562519073486\n",
      "step = 18000: loss = 0.004122280515730381\n",
      "step = 18000: Average Return = 1.0\n",
      "step = 18200: loss = 0.02575056441128254\n",
      "step = 18400: loss = 0.004839543253183365\n",
      "step = 18600: loss = 0.006439005956053734\n",
      "step = 18800: loss = 0.0038277553394436836\n",
      "step = 19000: loss = 0.01186289545148611\n",
      "step = 19000: Average Return = 1.0\n",
      "step = 19200: loss = 0.005222732201218605\n",
      "step = 19400: loss = 0.021087178960442543\n",
      "step = 19600: loss = 0.002956399228423834\n",
      "step = 19800: loss = 0.009424062445759773\n",
      "step = 20000: loss = 0.029342535883188248\n",
      "step = 20000: Average Return = 1.0\n"
     ]
    }
   ],
   "source": [
    "#@test {\"skip\": true}\n",
    "try:\n",
    "  %%time\n",
    "except:\n",
    "  pass\n",
    "\n",
    "# (Optional) Optimize by wrapping some of the code in a graph using TF function.\n",
    "agent.train = common.function(agent.train)\n",
    "\n",
    "# Reset the train step.\n",
    "agent.train_step_counter.assign(0)\n",
    "\n",
    "# Evaluate the agent's policy once before training.\n",
    "avg_return = compute_avg_return(eval_env, agent.policy, num_eval_episodes)\n",
    "returns = [avg_return]\n",
    "\n",
    "# Reset the environment.\n",
    "time_step = train_py_env.reset()\n",
    "\n",
    "# Create a driver to collect experience.\n",
    "collect_driver = py_driver.PyDriver(\n",
    "    env,\n",
    "    py_tf_eager_policy.PyTFEagerPolicy(\n",
    "      agent.collect_policy, use_tf_function=True),\n",
    "    [rb_observer],\n",
    "    max_steps=collect_steps_per_iteration)\n",
    "\n",
    "for _ in range(num_iterations):\n",
    "\n",
    "  # Collect a few steps and save to the replay buffer.\n",
    "  time_step, _ = collect_driver.run(time_step)\n",
    "\n",
    "  # Sample a batch of data from the buffer and update the agent's network.\n",
    "  experience, unused_info = next(iterator)\n",
    "  train_loss = agent.train(experience).loss\n",
    "\n",
    "  step = agent.train_step_counter.numpy()\n",
    "\n",
    "  if step % log_interval == 0:\n",
    "    print('step = {0}: loss = {1}'.format(step, train_loss))\n",
    "\n",
    "  if step % eval_interval == 0:\n",
    "    avg_return = compute_avg_return(eval_env, agent.policy, num_eval_episodes)\n",
    "    print('step = {0}: Average Return = {1}'.format(step, avg_return))\n",
    "    returns.append(avg_return)"
   ]
  },
  {
   "cell_type": "markdown",
   "metadata": {
    "id": "68jNcA_TiJDq"
   },
   "source": [
    "## Visualization\n"
   ]
  },
  {
   "cell_type": "markdown",
   "metadata": {
    "id": "aO-LWCdbbOIC"
   },
   "source": [
    "### Plots\n",
    "\n",
    "Use `matplotlib.pyplot` to chart how the policy improved during training.\n",
    "\n",
    "One iteration of `Cartpole-v0` consists of 200 time steps. The environment gives a reward of `+1` for each step the pole stays up, so the maximum return for one episode is 200. The charts shows the return increasing towards that maximum each time it is evaluated during training. (It may be a little unstable and not increase monotonically each time.)"
   ]
  },
  {
   "cell_type": "code",
   "execution_count": 31,
   "metadata": {
    "execution": {
     "iopub.execute_input": "2021-09-29T12:23:32.231411Z",
     "iopub.status.busy": "2021-09-29T12:23:32.220717Z",
     "iopub.status.idle": "2021-09-29T12:23:32.428018Z",
     "shell.execute_reply": "2021-09-29T12:23:32.427468Z"
    },
    "id": "NxtL1mbOYCVO"
   },
   "outputs": [
    {
     "data": {
      "text/plain": [
       "Text(0.5, 0, 'Iterations')"
      ]
     },
     "execution_count": 31,
     "metadata": {},
     "output_type": "execute_result"
    },
    {
     "data": {
      "image/png": "[encoded data removed]",
      "text/plain": [
       "<Figure size 432x288 with 1 Axes>"
      ]
     },
     "metadata": {
      "needs_background": "light"
     },
     "output_type": "display_data"
    }
   ],
   "source": [
    "#@test {\"skip\": true}\n",
    "\n",
    "iterations = range(0, num_iterations + 1, eval_interval)\n",
    "plt.plot(iterations, returns)\n",
    "plt.ylabel('Average Return')\n",
    "plt.xlabel('Iterations')\n",
    "# plt.ylim(top=250)"
   ]
  },
  {
   "cell_type": "markdown",
   "metadata": {
    "id": "M7-XpPP99Cy7"
   },
   "source": [
    "### Videos"
   ]
  },
  {
   "cell_type": "markdown",
   "metadata": {
    "id": "9pGfGxSH32gn"
   },
   "source": [
    "Charts are nice. But more exciting is seeing an agent actually performing a task in an environment. \n",
    "\n",
    "First, create a function to embed videos in the notebook."
   ]
  },
  {
   "cell_type": "code",
   "execution_count": null,
   "metadata": {
    "execution": {
     "iopub.execute_input": "2021-09-29T12:23:32.434701Z",
     "iopub.status.busy": "2021-09-29T12:23:32.433890Z",
     "iopub.status.idle": "2021-09-29T12:23:32.436117Z",
     "shell.execute_reply": "2021-09-29T12:23:32.436506Z"
    },
    "id": "ULaGr8pvOKbl"
   },
   "outputs": [],
   "source": [
    "# def embed_mp4(filename):\n",
    "#   \"\"\"Embeds an mp4 file in the notebook.\"\"\"\n",
    "#   video = open(filename,'rb').read()\n",
    "#   b64 = base64.b64encode(video)\n",
    "#   tag = '''\n",
    "#   <video width=\"640\" height=\"480\" controls>\n",
    "#     <source src=\"data:video/mp4;base64,{0}\" type=\"video/mp4\">\n",
    "#   Your browser does not support the video tag.\n",
    "#   </video>'''.format(b64.decode())\n",
    "\n",
    "#   return IPython.display.HTML(tag)"
   ]
  },
  {
   "cell_type": "markdown",
   "metadata": {
    "id": "9c_PH-pX4Pr5"
   },
   "source": [
    "Now iterate through a few episodes of the Cartpole game with the agent. The underlying Python environment (the one \"inside\" the TensorFlow environment wrapper) provides a `render()` method, which outputs an image of the environment state. These can be collected into a video."
   ]
  },
  {
   "cell_type": "code",
   "execution_count": null,
   "metadata": {
    "execution": {
     "iopub.execute_input": "2021-09-29T12:23:32.443717Z",
     "iopub.status.busy": "2021-09-29T12:23:32.443004Z",
     "iopub.status.idle": "2021-09-29T12:23:47.319237Z",
     "shell.execute_reply": "2021-09-29T12:23:47.319732Z"
    },
    "id": "owOVWB158NlF"
   },
   "outputs": [],
   "source": [
    "# def create_policy_eval_video(policy, filename, num_episodes=5, fps=30):\n",
    "#   filename = filename + \".mp4\"\n",
    "#   with imageio.get_writer(filename, fps=fps) as video:\n",
    "#     for _ in range(num_episodes):\n",
    "#       time_step = eval_env.reset()\n",
    "#       video.append_data(eval_py_env.render())\n",
    "#       while not time_step.is_last():\n",
    "#         action_step = policy.action(time_step)\n",
    "#         time_step = eval_env.step(action_step.action)\n",
    "#         video.append_data(eval_py_env.render())\n",
    "#   return embed_mp4(filename)\n",
    "\n",
    "# create_policy_eval_video(agent.policy, \"trained-agent\")"
   ]
  },
  {
   "cell_type": "markdown",
   "metadata": {
    "id": "povaAOcZygLw"
   },
   "source": [
    "For fun, compare the trained agent (above) to an agent moving randomly. (It does not do as well.)"
   ]
  },
  {
   "cell_type": "code",
   "execution_count": null,
   "metadata": {
    "execution": {
     "iopub.execute_input": "2021-09-29T12:23:47.327774Z",
     "iopub.status.busy": "2021-09-29T12:23:47.326987Z",
     "iopub.status.idle": "2021-09-29T12:23:48.494204Z",
     "shell.execute_reply": "2021-09-29T12:23:48.493663Z"
    },
    "id": "pJZIdC37yNH4"
   },
   "outputs": [],
   "source": [
    "# create_policy_eval_video(random_policy, \"random-agent\")"
   ]
  }
 ],
 "metadata": {
  "colab": {
   "collapsed_sections": [],
   "name": "DQN Tutorial.ipynb",
   "private_outputs": true,
   "provenance": [],
   "toc_visible": true
  },
  "kernelspec": {
   "display_name": "Python 3 (ipykernel)",
   "language": "python",
   "name": "python3"
  },
  "language_info": {
   "codemirror_mode": {
    "name": "ipython",
    "version": 3
   },
   "file_extension": ".py",
   "mimetype": "text/x-python",
   "name": "python",
   "nbconvert_exporter": "python",
   "pygments_lexer": "ipython3",
   "version": "3.9.7"
  },
  "pycharm": {
   "stem_cell": {
    "cell_type": "raw",
    "metadata": {
     "collapsed": false
    },
    "source": []
   }
  }
 },
 "nbformat": 4,
 "nbformat_minor": 1
}
